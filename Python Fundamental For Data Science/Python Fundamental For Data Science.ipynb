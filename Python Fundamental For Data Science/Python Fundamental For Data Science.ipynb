{
 "cells": [
  {
   "cell_type": "markdown",
   "metadata": {},
   "source": [
    "BAB 1: [Data type python]\n",
    "Berikut adalah data type pada Python:"
   ]
  },
  {
   "cell_type": "code",
   "execution_count": 1,
   "metadata": {},
   "outputs": [
    {
     "name": "stdout",
     "output_type": "stream",
     "text": [
      "True\n",
      "Ayo belajar Python\n",
      "Belajar Python Sangat Mudah di DQLAB\n",
      "20\n",
      "3.14\n",
      "[1, 2, 3, 4, 5]\n",
      "['satu', 'dua', 'tiga']\n",
      "{'nama': 'Budi', 'umur': 20}\n",
      "\n"
     ]
    }
   ],
   "source": [
    "#tipe data Boolean\n",
    "print(True)\n",
    "\n",
    "#tipe data String\n",
    "print(\"Ayo belajar Python\")\n",
    "print('Belajar Python Sangat Mudah di DQLAB')\n",
    "\n",
    "#tipe data Integer\n",
    "print(20)\n",
    "\n",
    "#tipe data Float\n",
    "print(3.14)\n",
    "\n",
    "#tipe data List\n",
    "print([1,2,3,4,5])\n",
    "print([\"satu\", \"dua\", \"tiga\"])\n",
    "\n",
    "#tipe data Dictionary\n",
    "print({\"nama\":\"Budi\", \"umur\":20})\n",
    "print()"
   ]
  },
  {
   "cell_type": "markdown",
   "metadata": {},
   "source": [
    "[Checking data type Python]"
   ]
  },
  {
   "cell_type": "code",
   "execution_count": 2,
   "metadata": {},
   "outputs": [
    {
     "name": "stdout",
     "output_type": "stream",
     "text": [
      "Belajar Python DQLab\n",
      "<class 'str'>\n",
      "10\n",
      "<class 'int'>\n",
      "3.14\n",
      "<class 'float'>\n",
      "[1, 2, 3, 4, 5]\n",
      "<class 'list'>\n",
      "('satu', 'dua', 'tiga')\n",
      "<class 'tuple'>\n",
      "{'nama': 'Ali', 'umur': 20}\n",
      "<class 'dict'>\n"
     ]
    }
   ],
   "source": [
    "var_string=\"Belajar Python DQLab\"\n",
    "var_int=10\n",
    "var_float=3.14\n",
    "var_list=[1,2,3,4,5]\n",
    "var_tuple=(\"satu\",\"dua\",\"tiga\")\n",
    "var_dict={\"nama\":\"Ali\", \"umur\":20}\n",
    "\n",
    "print(var_string)\n",
    "print(type(var_string))\n",
    "print(var_int)\n",
    "print(type(var_int))\n",
    "print(var_float)\n",
    "print(type(var_float))\n",
    "print(var_list)\n",
    "print(type(var_list))\n",
    "print(var_tuple)\n",
    "print(type(var_tuple))\n",
    "print(var_dict)\n",
    "print(type(var_dict))"
   ]
  },
  {
   "cell_type": "markdown",
   "metadata": {},
   "source": [
    "BAB 2: Struktur Kontrol: Percabangan Keputusan"
   ]
  },
  {
   "cell_type": "code",
   "execution_count": 4,
   "metadata": {},
   "outputs": [
    {
     "name": "stdout",
     "output_type": "stream",
     "text": [
      "ini adalah angka 10\n",
      "bukan angka 10\n",
      "lebih kecil dari 5\n",
      "nilai kurang dari 7\n",
      "nilai i kurang dari 7 tapi lebih dari 3\n"
     ]
    }
   ],
   "source": [
    "#[IF Statement]\n",
    "i = 10 #Inisialisasi variabel yang memiliki nilai 10\n",
    "if(i==10): #pengecekan nilai i apakah sama dengan 10\n",
    "    print(\"ini adalah angka 10\") #jika True maka akan mencetak kalimat ini\n",
    "\n",
    "#[IF... ELSE... Statement]\n",
    "i = 5 #inisialisasi variabel\n",
    "if(i==10): #pengecekan nilai\n",
    "    print('ini adalah angka 10')\n",
    "else:\n",
    "    print('bukan angka 10')\n",
    "\n",
    "#[IF... ELIF... ELSE...]\n",
    "i = 3\n",
    "if(i==5):\n",
    "    print('ini adalah angka 5')\n",
    "elif(i>5):\n",
    "    print('lebih besar dari 5')\n",
    "else: #memeriksa apakah kondisi i tidak memenuhi 2 kondisi diatas\n",
    "    print('lebih kecil dari 5')\n",
    "\n",
    "#[Nested IF]\n",
    "i = 5\n",
    "if(1<7):\n",
    "    print('nilai kurang dari 7')\n",
    "    if(i<3):\n",
    "        print('nilai i kurang dari 7 dan kurang dari 3')\n",
    "    else:\n",
    "        print('nilai i kurang dari 7 tapi lebih dari 3')"
   ]
  },
  {
   "cell_type": "markdown",
   "metadata": {},
   "source": [
    "BAB 3: Operator Dasar dan Operator Logika"
   ]
  },
  {
   "cell_type": "code",
   "execution_count": 6,
   "metadata": {},
   "outputs": [
    {
     "name": "stdout",
     "output_type": "stream",
     "text": [
      "Hasil penjumlahan a dan b adalah 15\n",
      "Selisih a dan b adalah : 5\n",
      "Hasil perkalian a dan b adalah : 50\n",
      "Hasil pembagian a dan b adalah: 2.0\n"
     ]
    }
   ],
   "source": [
    "#[Operasi Matematika Sederhana]\n",
    "a=10\n",
    "b=5\n",
    "\n",
    "selisih = a-b\n",
    "jumlah = a+b\n",
    "kali = a*b\n",
    "bagi = a/b\n",
    "\n",
    "print(\"Hasil penjumlahan a dan b adalah\", jumlah)\n",
    "print(\"Selisih a dan b adalah :\",selisih)\n",
    "print(\"Hasil perkalian a dan b adalah :\",kali)\n",
    "print(\"Hasil pembagian a dan b adalah:\",bagi)"
   ]
  },
  {
   "cell_type": "code",
   "execution_count": 7,
   "metadata": {},
   "outputs": [
    {
     "name": "stdout",
     "output_type": "stream",
     "text": [
      "Hasil modulus 1\n"
     ]
    }
   ],
   "source": [
    "#[Operasi Modulus]\n",
    "c=10\n",
    "d=3\n",
    "\n",
    "modulus=c%d\n",
    "print(\"Hasil modulus\", modulus)"
   ]
  },
  {
   "cell_type": "code",
   "execution_count": 8,
   "metadata": {},
   "outputs": [
    {
     "name": "stdout",
     "output_type": "stream",
     "text": [
      "angka termasuk bilangan genap\n"
     ]
    }
   ],
   "source": [
    "#[Tugas program menentukan bil  genap atau ganjil]\n",
    "angka=10\n",
    "\n",
    "modulus=angka%2\n",
    "if(modulus==0):\n",
    "    print('angka termasuk bilangan genap')\n",
    "else:\n",
    "    print('angka termasuk bilangan ganjil')"
   ]
  },
  {
   "cell_type": "markdown",
   "metadata": {},
   "source": [
    "BAB 4: Perulangan"
   ]
  },
  {
   "cell_type": "code",
   "execution_count": 9,
   "metadata": {},
   "outputs": [
    {
     "name": "stdout",
     "output_type": "stream",
     "text": [
      "ini adalah perulangan ke - 0\n",
      "ini adalah perulangan ke - 1\n",
      "ini adalah perulangan ke - 2\n",
      "ini adalah perulangan ke - 3\n",
      "ini adalah perulangan ke - 4\n",
      "ini adalah perulangan ke - 5\n"
     ]
    }
   ],
   "source": [
    "#[Konsep WHILE]\n",
    "#nilai awal j = 0\n",
    "j=0\n",
    "\n",
    "#ketika j kurang dari 6 lakukan perulangan, jika tidak stop perulangan\n",
    "while j<6:\n",
    "\t#lakukan perintah ini ketika perulangan\n",
    "\tprint(\"ini adalah perulangan ke -\",j)\n",
    "\t#setiap kali diakhiri perulangan update nilai dengan ditambah 1\n",
    "\tj=j+1"
   ]
  },
  {
   "cell_type": "code",
   "execution_count": 13,
   "metadata": {},
   "outputs": [
    {
     "name": "stdout",
     "output_type": "stream",
     "text": [
      "ini adalah perulangan ke - 1\n",
      "ini adalah perulangan ke - 2\n",
      "ini adalah perulangan ke - 3\n",
      "ini adalah perulangan ke - 4\n",
      "ini adalah perulangan ke - 5\n"
     ]
    }
   ],
   "source": [
    "#[Konsep FOR]\n",
    "for i in range(1,6): #perulangan for sebagai inisialisasi dari angka 1 hingga angka yang lebih kecil daripada 6\n",
    "\tprint(\"ini adalah perulangan ke -\", i) #perintah jika looping akan tetap berjalan"
   ]
  },
  {
   "cell_type": "code",
   "execution_count": 14,
   "metadata": {},
   "outputs": [
    {
     "name": "stdout",
     "output_type": "stream",
     "text": [
      "Ini adalah element count :  1\n",
      "Ini adalah element count :  2\n",
      "Ini adalah element count :  3\n",
      "Ini adalah element count :  4\n",
      "Ini adalah element count :  5\n"
     ]
    }
   ],
   "source": [
    "#[Konsep FOR with access element]\n",
    "count=[1,2,3,4,5] #elemen list\n",
    "\n",
    "for number in count: #looping untuk menampilkan semua elemen pada count\n",
    "    print(\"Ini adalah element count : \", number) #menampilkan elemen list pada count"
   ]
  },
  {
   "cell_type": "code",
   "execution_count": 15,
   "metadata": {},
   "outputs": [
    {
     "name": "stdout",
     "output_type": "stream",
     "text": [
      "Angka Ganjil 1\n",
      "Angka Genap 2\n",
      "Angka Ganjil 3\n",
      "Angka Genap 4\n",
      "Angka Ganjil 5\n",
      "Angka Genap 6\n",
      "Angka Ganjil 7\n",
      "Angka Genap 8\n",
      "Angka Ganjil 9\n",
      "Angka Genap 10\n"
     ]
    }
   ],
   "source": [
    "#[Konsep FOR: Tugas Praktek]\n",
    "for angka in range(1,11):\n",
    "\tif(angka%2==0):\n",
    "\t\tprint('Angka Genap', angka)\n",
    "\telse:\n",
    "\t\tprint('Angka Ganjil', angka)"
   ]
  },
  {
   "cell_type": "markdown",
   "metadata": {},
   "source": [
    "BAB 5: Function"
   ]
  },
  {
   "cell_type": "code",
   "execution_count": 19,
   "metadata": {},
   "outputs": [
    {
     "name": "stdout",
     "output_type": "stream",
     "text": [
      "Hello, Selamat Pagi\n"
     ]
    }
   ],
   "source": [
    "#[Membuat dan Memanggil Fungsi]\n",
    "# membuat fungsi\n",
    "def salam():\n",
    "\tprint(\"Hello, Selamat Pagi\")\n",
    "\t\n",
    "## Pemanggilan Fungsi\n",
    "salam()"
   ]
  },
  {
   "cell_type": "code",
   "execution_count": 20,
   "metadata": {},
   "outputs": [
    {
     "name": "stdout",
     "output_type": "stream",
     "text": [
      "Luas segitiga: 12.00\n"
     ]
    }
   ],
   "source": [
    "#[Menambah Parameter pada fungsi]\n",
    "def luas_segitiga(alas, tinggi): #alas dan tinggi merupakan parameter yang masuk\n",
    "\tluas = (alas * tinggi) / 2\n",
    "\t#sintaks %0.2f\" % untuk menampilkan dua angka pecahan dibelakang koma, jika tidak ini akan sangat panjang\n",
    "\tprint(\"Luas segitiga: %0.2f\" % luas);\n",
    "\t\n",
    "#pemanggilan fungsi\n",
    "## 4 dan 6 merupakan parameter yang diinputkan kedalam fungsi luas segitiga\n",
    "luas_segitiga(4,6)"
   ]
  },
  {
   "cell_type": "code",
   "execution_count": 21,
   "metadata": {},
   "outputs": [
    {
     "name": "stdout",
     "output_type": "stream",
     "text": [
      "Luas segitiga : 12\n"
     ]
    }
   ],
   "source": [
    "#[Fungsi dengan Return Value]\n",
    "#mengembalikan nilai adalah menggunakan kata kunci return\n",
    "#alas dan tiggi segitiga merupakan parameter yang masuk\n",
    "def luas_segitiga(alas, tinggi):\n",
    "\tluas = (alas*tinggi)/2\n",
    "\treturn luas\n",
    "\n",
    "#pemanggilan fungsi\n",
    "##4 dan 6 merupakan parameter yang diinputkan ke dalam fungsi luas segitiga\n",
    "print(\"Luas segitiga : %d\" % luas_segitiga(4,6))"
   ]
  },
  {
   "cell_type": "markdown",
   "metadata": {},
   "source": [
    "BAB 6: Modul dan Package"
   ]
  },
  {
   "cell_type": "code",
   "execution_count": 23,
   "metadata": {},
   "outputs": [
    {
     "name": "stdout",
     "output_type": "stream",
     "text": [
      "Nilai pi adalah: 3.141592653589793\n",
      "Nilai pi adalah: 3.141592653589793\n",
      "Nilai pi adalah 3.141592653589793\n",
      "Nilai e adalah: 2.718281828459045\n"
     ]
    }
   ],
   "source": [
    "#[Import Package dan Menggunakan modul]\n",
    "import math\n",
    "print(\"Nilai pi adalah:\", math.pi) #math.pi merupakan sintak memanggil fungsi pi\n",
    "\n",
    "#[Import dengan Module Rename atau Alias]\n",
    "#menggunakan m sebagai modole rename atau alias\n",
    "import math as m\n",
    "\n",
    "#m.pi merupakan sintak untuk memanggil fungsi\n",
    "print(\"Nilai pi adalah:\", m.pi)\n",
    "\n",
    "#[Import Sebagian Fungsi]\n",
    "from math import pi\n",
    "\n",
    "print(\"Nilai pi adalah\", pi)\n",
    "\n",
    "#[Import Semua isi Moduls]\n",
    "from math import *\n",
    "\n",
    "print(\"Nilai e adalah:\", e)\n"
   ]
  }
 ],
 "metadata": {
  "kernelspec": {
   "display_name": "Python 3.9.12 ('base')",
   "language": "python",
   "name": "python3"
  },
  "language_info": {
   "codemirror_mode": {
    "name": "ipython",
    "version": 3
   },
   "file_extension": ".py",
   "mimetype": "text/x-python",
   "name": "python",
   "nbconvert_exporter": "python",
   "pygments_lexer": "ipython3",
   "version": "3.9.12"
  },
  "orig_nbformat": 4,
  "vscode": {
   "interpreter": {
    "hash": "5dfae695991f40f7f711b859ebe4404a578ce2940a1c2f7058c1cb98bd497b2c"
   }
  }
 },
 "nbformat": 4,
 "nbformat_minor": 2
}
