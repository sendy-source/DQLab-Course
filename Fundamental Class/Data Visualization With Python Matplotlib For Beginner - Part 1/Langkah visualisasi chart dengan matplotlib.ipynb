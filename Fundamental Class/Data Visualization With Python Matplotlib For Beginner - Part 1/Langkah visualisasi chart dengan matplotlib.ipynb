{
 "cells": [
  {
   "cell_type": "markdown",
   "metadata": {},
   "source": [
    "LANGKAH DASAR PEMBUATAN CHART MENGGUNAKAN MATPLOTLIB\n",
    "1. Mempersiapkan dulu data yang dibutuhkan (NumPy & Pandas)\n",
    "2. Membuat plot dari data yang telah dipersiapkan\n",
    "3. mengkustomisasi berbagai komponen di chart yang telah dibuat - seperti figure size, title/judul, axis labels, axis ticks, style dari line/points di chart, grid, teks, dan lain sebagainya.\n",
    "4. Menyimpan gambar yang telah dibuat"
   ]
  },
  {
   "cell_type": "markdown",
   "metadata": {},
   "source": [
    "CONTOH KASUS : MEMBUAT GRAFIK GMV BULANAN UNTUK TAHUN 2019\n",
    "1. GMV (Gross Merchandise Value) artinya Total uang yang dibayarkan customer"
   ]
  },
  {
   "cell_type": "markdown",
   "metadata": {},
   "source": [
    "MEMPERSIAPKAN DATASET\n",
    "1. Pengenalan Dataset: https://storage.googleapis.com/dqlab-dataset/retail_raw_reduced.csv\n",
    "2. Mengetahui penjelasan setiap kolom dataset\n",
    "3. Menambahkan kolom yang diperlukan - kolom GMV & order_month"
   ]
  },
  {
   "cell_type": "code",
   "execution_count": 4,
   "metadata": {},
   "outputs": [
    {
     "name": "stdout",
     "output_type": "stream",
     "text": [
      "Ukuran dataset: 5000 baris dan 9 kolom/n\n",
      "Index(['order_id', 'order_date', 'customer_id', 'city', 'province',\n",
      "       'product_id', 'brand', 'quantity', 'item_price'],\n",
      "      dtype='object')\n",
      "Lima data teratas:\n",
      "   order_id  order_date  customer_id             city     province product_id  \\\n",
      "0   1703458  2019-10-17        14004  Jakarta Selatan  DKI Jakarta      P1910   \n",
      "1   1706815  2019-10-24        17220  Jakarta Selatan  DKI Jakarta      P2934   \n",
      "2   1710718  2019-11-03        16518    Jakarta Utara  DKI Jakarta      P0908   \n",
      "3   1683592  2019-08-19        16364    Jakarta Barat  DKI Jakarta      P0128   \n",
      "4   1702573  2019-10-16        15696    Jakarta Timur  DKI Jakarta      P2968   \n",
      "\n",
      "     brand  quantity  item_price  \n",
      "0  BRAND_J        10      740000  \n",
      "1  BRAND_R         2      604000  \n",
      "2  BRAND_C         8     1045000  \n",
      "3  BRAND_A         4      205000  \n",
      "4  BRAND_R         2     4475000  \n"
     ]
    }
   ],
   "source": [
    "# Pengenalan Dataset\n",
    "import pandas as pd\n",
    "dataset = pd.read_csv('https://storage.googleapis.com/dqlab-dataset/retail_raw_reduced.csv')\n",
    "\n",
    "print('Ukuran dataset: %d baris dan %d kolom/n' % dataset.shape)\n",
    "print(dataset.columns)\n",
    "print('Lima data teratas:')\n",
    "print(dataset.head())"
   ]
  },
  {
   "cell_type": "markdown",
   "metadata": {},
   "source": [
    "Mengetahui penjelasan setiap kolom dataset :\n",
    "1. order_id: ID dari order/transaksi, 1 transaksi bisa terdiri dari beberapa produk, tetapi hanya dilakukan oleh 1 customer\n",
    "2. order_date: tanggal terjadinya transaksi\n",
    "3. customer_id: ID dari pembeli, bisa jadi dalam satu hari, 1 customer melakukan transaksi beberapa kali\n",
    "3. city: kota tempat toko terjadinya transaksi\n",
    "4. province: provinsi (berdasarkan city)\n",
    "5. product_id: ID dari suatu product yang dibeli\n",
    "6. brand: brand/merk dari product. Suatu product yang sama pasti memiliki brand yang sama\n",
    "7. quantity: Kuantitas/banyaknya product yang dibeli\n",
    "8. item_price: Harga dari 1 product (dalam Rupiah). Suatu product yang sama, bisa jadi memiliki harga yang berbeda saat dibeli."
   ]
  },
  {
   "cell_type": "markdown",
   "metadata": {},
   "source": [
    "Menambahkan kolom yang diperlukan :\n",
    "1. Berdasarkan kasus : Membuat Grafik GMV Bulanan , maka dapat dibayangkan sebuah line chart dengan sumbu-x berupa bulan, dan sumbu-y adalah total GMV di bulan tersebut\n",
    "2. Dataset tidak memiliki kolom order_month dan GMV, maka kita akan membuatnya"
   ]
  },
  {
   "cell_type": "markdown",
   "metadata": {},
   "source": [
    "Membuat dataset menggunakan : (datetime, apply, lamda) & Cara Langsung - pada kolom GMV\n",
    "\n",
    "1. apply & lambda : biasa digunakan untuk membuat kolom baru, berdasarkan suatu kolom lain yang sudah ada (misal .apply(lambda x: x*2) berarti setiap input x di dalam kolom, akan diubah menjadi x*2). Dalam hal ini kolom yang sudah ada adalah dataset['order_date'], lalu tiap nilai di dalamnya kita proses agar menjadi month-nya saja.\n",
    "2. Function datetime.datetime.strptime : digunakan untuk mengubah date/time dalam bentuk string menjadi tipe data datetime.\n",
    "3. Function strftime : digunakan untuk mengubah format suatu data bertipe datetime, dalam hal ini diubah menjadi '%Y-%m', yang berarti output-nya adalah waktu dengan bentuk YYYY-MM atau tahun dan bulan saja, tanggalnya sudah tidak ada.\n",
    "4. Cara langsung : dapat digunakan ketika membuat kolom yang hanya merupakan hasil dari perhitungan matematis sederhana atau hanya menggunakan operator saja sudah bisa."
   ]
  },
  {
   "cell_type": "code",
   "execution_count": 7,
   "metadata": {},
   "outputs": [
    {
     "name": "stdout",
     "output_type": "stream",
     "text": [
      "Ukuran dataset: 5000 baris dan 11 kolom/n\n",
      "Lima data teratas:\n",
      "   order_id  order_date  customer_id             city     province product_id  \\\n",
      "0   1703458  2019-10-17        14004  Jakarta Selatan  DKI Jakarta      P1910   \n",
      "1   1706815  2019-10-24        17220  Jakarta Selatan  DKI Jakarta      P2934   \n",
      "2   1710718  2019-11-03        16518    Jakarta Utara  DKI Jakarta      P0908   \n",
      "3   1683592  2019-08-19        16364    Jakarta Barat  DKI Jakarta      P0128   \n",
      "4   1702573  2019-10-16        15696    Jakarta Timur  DKI Jakarta      P2968   \n",
      "\n",
      "     brand  quantity  item_price order_month      gmv  \n",
      "0  BRAND_J        10      740000     2019-10  7400000  \n",
      "1  BRAND_R         2      604000     2019-10  1208000  \n",
      "2  BRAND_C         8     1045000     2019-11  8360000  \n",
      "3  BRAND_A         4      205000     2019-08   820000  \n",
      "4  BRAND_R         2     4475000     2019-10  8950000  \n"
     ]
    }
   ],
   "source": [
    "# Menambahkan kolom yang diperlukan\n",
    "# Menambahkan kolom order_month\n",
    "import pandas as pd\n",
    "import datetime\n",
    "\n",
    "dataset = pd.read_csv('https://storage.googleapis.com/dqlab-dataset/retail_raw_reduced.csv')\n",
    "\n",
    "# Membuat kolom order_month dari data order_date\n",
    "dataset['order_month'] = dataset['order_date'].apply(lambda x:datetime.datetime.strptime(x, '%Y-%m-%d').strftime('%Y-%m'))\n",
    "\n",
    "# Membuat kolom GMV dari perkalian item_price dan quantity\n",
    "dataset['gmv'] = dataset['item_price'] * dataset['quantity']\n",
    "\n",
    "print('Ukuran dataset: %d baris dan %d kolom/n' % dataset.shape)\n",
    "print('Lima data teratas:')\n",
    "print(dataset.head())"
   ]
  },
  {
   "cell_type": "code",
   "execution_count": null,
   "metadata": {},
   "outputs": [],
   "source": []
  }
 ],
 "metadata": {
  "kernelspec": {
   "display_name": "Python 3.9.12 ('base')",
   "language": "python",
   "name": "python3"
  },
  "language_info": {
   "codemirror_mode": {
    "name": "ipython",
    "version": 3
   },
   "file_extension": ".py",
   "mimetype": "text/x-python",
   "name": "python",
   "nbconvert_exporter": "python",
   "pygments_lexer": "ipython3",
   "version": "3.9.12"
  },
  "orig_nbformat": 4,
  "vscode": {
   "interpreter": {
    "hash": "5dfae695991f40f7f711b859ebe4404a578ce2940a1c2f7058c1cb98bd497b2c"
   }
  }
 },
 "nbformat": 4,
 "nbformat_minor": 2
}
